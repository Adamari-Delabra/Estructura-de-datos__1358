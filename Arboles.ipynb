{
  "nbformat": 4,
  "nbformat_minor": 0,
  "metadata": {
    "colab": {
      "name": "Arboles.ipynb",
      "provenance": [],
      "authorship_tag": "ABX9TyMxnVGz8hVq5fBKJc5LnN8V",
      "include_colab_link": true
    },
    "kernelspec": {
      "name": "python3",
      "display_name": "Python 3"
    },
    "language_info": {
      "name": "python"
    }
  },
  "cells": [
    {
      "cell_type": "markdown",
      "metadata": {
        "id": "view-in-github",
        "colab_type": "text"
      },
      "source": [
        "<a href=\"https://colab.research.google.com/github/Adamari-Delabra/Estructura-de-datos__1358/blob/main/Arboles.ipynb\" target=\"_parent\"><img src=\"https://colab.research.google.com/assets/colab-badge.svg\" alt=\"Open In Colab\"/></a>"
      ]
    },
    {
      "cell_type": "code",
      "metadata": {
        "id": "ZGpwDBzs8pmj"
      },
      "source": [
        "class BinaryNode:\n",
        "  def __init__(self, value , left=None , rigth= None):\n",
        "    self.data = value\n",
        "    self.left = left\n",
        "    self.rigth = rigth"
      ],
      "execution_count": 1,
      "outputs": []
    },
    {
      "cell_type": "code",
      "metadata": {
        "id": "R2LlO25R8q06"
      },
      "source": [
        "class TernaryNode:\n",
        "  def __init__(self, value , left=None , rigth= None,center= None):\n",
        "    self.data = value\n",
        "    self.left = left\n",
        "    self.center = center\n",
        "    self.rigth = rigth"
      ],
      "execution_count": 2,
      "outputs": []
    },
    {
      "cell_type": "code",
      "metadata": {
        "id": "8Q9ino2o8uo0"
      },
      "source": [
        "root = BinaryNode(\"R\",BinaryNode(\"C\"),BinaryNode(\"H\"))\n",
        "print( root.left.data "
      ],
      "execution_count": null,
      "outputs": []
    },
    {
      "cell_type": "code",
      "metadata": {
        "colab": {
          "base_uri": "https://localhost:8080/"
        },
        "id": "xGVMPg7x8yKG",
        "outputId": "8be9caab-3c04-4c28-fcf5-14e101dff5cf"
      },
      "source": [
        "root = TernaryNode(4,TernaryNode(3,TernaryNode(5,left=TernaryNode(2)),\\\n",
        "        TernaryNode(5),TernaryNode(2)), None, TernaryNode(5) ) \n",
        "print(root.left.left.left.data)\n",
        "print(\".-.--.-.-.-.-.-.-.\")\n",
        "aux = root\n",
        "while aux.left != None :\n",
        "  aux = aux.left\n",
        "print(aux.data)\n",
        "print(\".-.--.-.-.-.-.-.-.\")\n",
        "print(root.left.rigth.data)"
      ],
      "execution_count": 4,
      "outputs": [
        {
          "output_type": "stream",
          "name": "stdout",
          "text": [
            "2\n",
            ".-.--.-.-.-.-.-.-.\n",
            "2\n",
            ".-.--.-.-.-.-.-.-.\n",
            "5\n"
          ]
        }
      ]
    },
    {
      "cell_type": "code",
      "metadata": {
        "colab": {
          "base_uri": "https://localhost:8080/"
        },
        "id": "XvWTDXQ589mf",
        "outputId": "e4d02c6a-122a-4c31-b09f-cc42cd86ed2a"
      },
      "source": [
        "root = BinaryNode(\"santi\",None, BinaryNode( \"jesus\",BinaryNode(\"pedro\",None, BinaryNode(\"pedro chikito\"))))\n",
        "print( root.rigth.left.rigth.data )"
      ],
      "execution_count": 5,
      "outputs": [
        {
          "output_type": "stream",
          "name": "stdout",
          "text": [
            "pedro chikito\n"
          ]
        }
      ]
    }
  ]
}