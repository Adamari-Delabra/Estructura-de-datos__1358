{
  "nbformat": 4,
  "nbformat_minor": 0,
  "metadata": {
    "colab": {
      "name": "Arrive.ipynb",
      "provenance": [],
      "authorship_tag": "ABX9TyNUzBkN164veklGhihHa2gM",
      "include_colab_link": true
    },
    "kernelspec": {
      "name": "python3",
      "display_name": "Python 3"
    },
    "language_info": {
      "name": "python"
    }
  },
  "cells": [
    {
      "cell_type": "markdown",
      "metadata": {
        "id": "view-in-github",
        "colab_type": "text"
      },
      "source": [
        "<a href=\"https://colab.research.google.com/github/Adamari-Delabra/Estructura-de-datos__1358/blob/main/Arrive.ipynb\" target=\"_parent\"><img src=\"https://colab.research.google.com/assets/colab-badge.svg\" alt=\"Open In Colab\"/></a>"
      ]
    },
    {
      "cell_type": "code",
      "metadata": {
        "id": "HQDXYAHdH9Ym"
      },
      "source": [
        "\"\"\"\n",
        "ADT Array.\n",
        "Estatico\n",
        "\"\"\"\n",
        "class Array():\n",
        "  def __init__(self , tamano):\n",
        "    self.__tamano = tamano\n",
        "    self.__data = [0 for x in range(self.__tamano)]   # Generador\n",
        "\n",
        "  def get_item( self , index ):\n",
        "     return self.__data[index]\n",
        "\n",
        "  def to_string( self ):\n",
        "    print(self.__data) \n",
        "\n",
        "  def set__item( self,data,index ) :\n",
        "   return self__data (index)\n",
        "\n",
        "   def to__string ( self ) :\n",
        "     print(self.__data)\n",
        "\n",
        "  def to__Lenght( self) :\n",
        "    return self.__data\n",
        "\n",
        "    def to__string( self ) :\n",
        "     print( self._-data )\n",
        "\n"
      ],
      "execution_count": 8,
      "outputs": []
    },
    {
      "cell_type": "code",
      "metadata": {
        "colab": {
          "base_uri": "https://localhost:8080/"
        },
        "id": "vUlJUtpMzq38",
        "outputId": "779134da-9bc3-4c28-e877-a34f53731cbd"
      },
      "source": [
        "ejemplo = Array(5)\n",
        "ejemplo.to_string()\n",
        "ejemplo.get_item(3)\n",
        "#ejemplo.set_item(5)\n",
        "\n",
        "# Buenas tardes profesora,lo intente pero no supe como terminarlo "
      ],
      "execution_count": 4,
      "outputs": [
        {
          "output_type": "stream",
          "name": "stdout",
          "text": [
            "[0, 0, 0, 0, 0]\n"
          ]
        },
        {
          "output_type": "execute_result",
          "data": {
            "text/plain": [
              "0"
            ]
          },
          "metadata": {},
          "execution_count": 4
        }
      ]
    }
  ]
}