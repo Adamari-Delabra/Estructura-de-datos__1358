{
  "nbformat": 4,
  "nbformat_minor": 0,
  "metadata": {
    "colab": {
      "name": "Recursividad.ipynb",
      "provenance": [],
      "authorship_tag": "ABX9TyNLUgrGU3/vawAKkk0z+ss5",
      "include_colab_link": true
    },
    "kernelspec": {
      "name": "python3",
      "display_name": "Python 3"
    },
    "language_info": {
      "name": "python"
    }
  },
  "cells": [
    {
      "cell_type": "markdown",
      "metadata": {
        "id": "view-in-github",
        "colab_type": "text"
      },
      "source": [
        "<a href=\"https://colab.research.google.com/github/Adamari-Delabra/Estructura-de-datos__1358/blob/main/Recursividad.ipynb\" target=\"_parent\"><img src=\"https://colab.research.google.com/assets/colab-badge.svg\" alt=\"Open In Colab\"/></a>"
      ]
    },
    {
      "cell_type": "code",
      "metadata": {
        "colab": {
          "base_uri": "https://localhost:8080/"
        },
        "id": "41cSpUM0JZ15",
        "outputId": "863cf689-3805-48b0-dcd1-28093b11a3e4"
      },
      "source": [
        "\n",
        "def sumarLista(numero):\n",
        "  if len(numero) == 0:\n",
        "    return 0\n",
        "    \n",
        "  else:\n",
        "    return numero[0] + sumarLista(numero[1:])\n",
        "\n",
        "valores= [1, 2, 4, 6, 10]      \n",
        "resultado= sumarLista(valores) \n",
        "\n",
        "print( \"La suma es igual a:\", resultado)"
      ],
      "execution_count": 18,
      "outputs": [
        {
          "output_type": "stream",
          "name": "stdout",
          "text": [
            "La suma es igual a: 23\n"
          ]
        }
      ]
    }
  ]
}