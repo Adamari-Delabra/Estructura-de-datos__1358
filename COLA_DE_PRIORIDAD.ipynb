{
  "nbformat": 4,
  "nbformat_minor": 0,
  "metadata": {
    "colab": {
      "name": "COLA DE PRIORIDAD.ipynb",
      "provenance": [],
      "authorship_tag": "ABX9TyPiG/icKABWoH8dllrG69I+",
      "include_colab_link": true
    },
    "kernelspec": {
      "name": "python3",
      "display_name": "Python 3"
    },
    "language_info": {
      "name": "python"
    }
  },
  "cells": [
    {
      "cell_type": "markdown",
      "metadata": {
        "id": "view-in-github",
        "colab_type": "text"
      },
      "source": [
        "<a href=\"https://colab.research.google.com/github/Adamari-Delabra/Estructura-de-datos__1358/blob/main/COLA_DE_PRIORIDAD.ipynb\" target=\"_parent\"><img src=\"https://colab.research.google.com/assets/colab-badge.svg\" alt=\"Open In Colab\"/></a>"
      ]
    },
    {
      "cell_type": "code",
      "metadata": {
        "id": "tmCoUA9CpQdv"
      },
      "source": [
        "class ColaDePrioridad:\n",
        "  def _init_( self ):\n",
        "    self.__data = []\n",
        "    self.__length = 0\n",
        "\n",
        "  def is_empty( self ):\n",
        "    return self.length == 0\n",
        "\n",
        "  def length( self ):\n",
        "    return self.length\n",
        "\n",
        "  #Utilizar la función insert de el tipo de dato de prioridad\n",
        "  #Para mantener ordenado los niveles de prioridad\n",
        "  #TAREA MORAL\n",
        "\n",
        "  def enqueue( self , prioridad , elem ):\n",
        "    existe = False\n",
        "    indice = 0\n",
        "\n",
        "    for index in range( len(self.__data ) ):\n",
        "      if self.__data[index][\"p\"] == prioridad:\n",
        "        existe = True\n",
        "        indice = index\n",
        "        break\n",
        "\n",
        "    if existe:\n",
        "      self.__data[indice][\"cola\"].enqueue(elem)\n",
        "    else:\n",
        "      self.__data.append( {\"p\":prioridad , \"cola\": QueueADT() } )\n",
        "      self.__data[-1][\"cola\"].enqueue(elem)\n",
        "\n",
        "  def to_string( self ):\n",
        "    for level in self.__data:\n",
        "      print(level[\"p\"], end=\" <--\")\n",
        "      level[\"cola\"].to_string()"
      ],
      "execution_count": 1,
      "outputs": []
    },
    {
      "cell_type": "code",
      "metadata": {
        "id": "UP2NTTFNpTcx"
      },
      "source": [
        "cp = ColaDePrioridad\n",
        "cp.enqueue(2,\"A\")\n",
        "cp.enqueue(4,\"Z\")\n",
        "cp.enqueue(1,\"R\")\n",
        "cp.enqueue(2,\"B\")\n",
        "cp.enqueue(4,\"Y\")\n",
        "cp.to_string()"
      ],
      "execution_count": null,
      "outputs": []
    }
  ]
}