{
  "nbformat": 4,
  "nbformat_minor": 0,
  "metadata": {
    "colab": {
      "name": "Lista.ipynb",
      "provenance": [],
      "authorship_tag": "ABX9TyPPQ/C78mvB9UiOOOBwBVUS",
      "include_colab_link": true
    },
    "kernelspec": {
      "name": "python3",
      "display_name": "Python 3"
    },
    "language_info": {
      "name": "python"
    }
  },
  "cells": [
    {
      "cell_type": "markdown",
      "metadata": {
        "id": "view-in-github",
        "colab_type": "text"
      },
      "source": [
        "<a href=\"https://colab.research.google.com/github/Adamari-Delabra/Estructura-de-datos__1358/blob/main/Lista.ipynb\" target=\"_parent\"><img src=\"https://colab.research.google.com/assets/colab-badge.svg\" alt=\"Open In Colab\"/></a>"
      ]
    },
    {
      "cell_type": "code",
      "metadata": {
        "id": "Zem7EGKs50j6"
      },
      "source": [
        "class LinkedListADT:\n",
        "    def _init_( self ):\n",
        "        self.head = None\n",
        "\n",
        "    def is_empty( self ):\n",
        "        return self.head == None\n",
        "\n",
        "    def get_tail( self ):\n",
        "        curr_node = self.head\n",
        "        if curr_node != None:\n",
        "            while curr_node.next != None:\n",
        "                curr_node = curr_node.next\n",
        "        return curr_node\n",
        "\n",
        "    def append( self , dato ):\n",
        "        if self.is_empty() :\n",
        "            self.head = Nodo( dato )\n",
        "        else:\n",
        "            #self.get_tail().next = Nodo(dato)\n",
        "            tmp = self.get_tail()\n",
        "            tmp.next = Nodo(dato)\n",
        "\n",
        "    def preAppend( self, dato ):\n",
        "        tmp = self.head\n",
        "        self.head = Nodo( dato, tmp )\n",
        "\n",
        "    def transversal( self ):\n",
        "        curr_node = self.head\n",
        "        while curr_node != None:\n",
        "            if curr_node.next == None:\n",
        "                print( curr_node.data)\n",
        "                curr_node = curr_node.next\n",
        "            else: \n",
        "                print( curr_node.data , end=\" --> \")\n",
        "                curr_node = curr_node.next\n",
        "    \n",
        "    def remove( self, dato ):\n",
        "        curr_node = self.head\n",
        "        if curr_node != None:\n",
        "            while curr_node.next != None:\n",
        "                if curr_node.next.data == dato:\n",
        "                    if curr_node.next.next != None:\n",
        "                        curr_node.next = curr_node.next.next \n",
        "                else:\n",
        "                    curr_node = curr_node.next \n",
        "\n",
        "    def pop( self ):\n",
        "        curr_node = self.head\n",
        "        while curr_node.next.next != None :\n",
        "            curr_node = curr_node.next \n",
        "        curr_node.next = None\n",
        "    \n",
        "    def prePop( self ):\n",
        "        self.head = self.head.next"
      ],
      "execution_count": 1,
      "outputs": []
    }
  ]
}