{
  "nbformat": 4,
  "nbformat_minor": 0,
  "metadata": {
    "colab": {
      "name": "listas_EDD1358.ipynb",
      "provenance": [],
      "authorship_tag": "ABX9TyP6tMmF6Z6EYmU+F1Ek4EAv",
      "include_colab_link": true
    },
    "kernelspec": {
      "name": "python3",
      "display_name": "Python 3"
    },
    "language_info": {
      "name": "python"
    }
  },
  "cells": [
    {
      "cell_type": "markdown",
      "metadata": {
        "id": "view-in-github",
        "colab_type": "text"
      },
      "source": [
        "<a href=\"https://colab.research.google.com/github/Adamari-Delabra/Estructura-de-datos__1358/blob/main/listas_EDD1358.ipynb\" target=\"_parent\"><img src=\"https://colab.research.google.com/assets/colab-badge.svg\" alt=\"Open In Colab\"/></a>"
      ]
    },
    {
      "cell_type": "code",
      "metadata": {
        "id": "tao0t66X2edR"
      },
      "source": [
        "class Nodo:\n",
        "  def __init__(self , value , siguiente=None):\n",
        "      self.data = value\n",
        "      self.next = siguiente\n"
      ],
      "execution_count": 5,
      "outputs": []
    },
    {
      "cell_type": "code",
      "metadata": {
        "colab": {
          "base_uri": "https://localhost:8080/"
        },
        "id": "gjo0tzKYTuXG",
        "outputId": "e7c32746-0c85-4f95-8ffa-d49aa89b402a"
      },
      "source": [
        "head = Nodo(30)\n",
        "print(head.data)\n",
        "print(head.next)\n",
        "\n",
        "\n"
      ],
      "execution_count": 6,
      "outputs": [
        {
          "output_type": "stream",
          "name": "stdout",
          "text": [
            "30\n",
            "None\n"
          ]
        }
      ]
    },
    {
      "cell_type": "code",
      "metadata": {
        "colab": {
          "base_uri": "https://localhost:8080/"
        },
        "id": "i-2XAZAkVZLH",
        "outputId": "78898097-7262-4c76-d1f6-e27ca1644210"
      },
      "source": [
        "  punto_entrada = Nodo(20)\n",
        "  punto_entrada.next = Nodo(15)\n",
        "\n",
        "  print(punto_entrada.data)\n",
        "  #print(punto_entrada.next)\n",
        "  print(punto_entrada.next.data)\n",
        "  #print(punto_entrada.next.next)\n",
        "  print (\"Hacer lo mismo pero con el segundo metodo\")\n",
        "\n",
        "  punto_entrada = Nodo(20 , Nodo(15) )\n",
        "\n",
        "  print(punto_entrada.data)\n",
        "  print(punto_entrada.next.data)\n"
      ],
      "execution_count": 11,
      "outputs": [
        {
          "output_type": "stream",
          "name": "stdout",
          "text": [
            "20\n",
            "15\n",
            "Hacer lo mismo pero con el segundo metodo\n",
            "20\n",
            "15\n"
          ]
        }
      ]
    }
  ]
}